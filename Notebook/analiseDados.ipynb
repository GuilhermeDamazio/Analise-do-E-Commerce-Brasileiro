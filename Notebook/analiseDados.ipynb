{
 "cells": [
  {
   "cell_type": "markdown",
   "id": "36a3a227",
   "metadata": {},
   "source": [
    "# Análise de Dados do E-Commerce Brasileiro"
   ]
  },
  {
   "cell_type": "code",
   "execution_count": 1,
   "id": "daeb2598",
   "metadata": {},
   "outputs": [],
   "source": [
    "import pandas as pd\n",
    "import matplotlib.pyplot as plt"
   ]
  },
  {
   "cell_type": "markdown",
   "id": "43469f16",
   "metadata": {},
   "source": [
    "### Adicionando o dataframe 'listaDeProdutos' e realizando a contagem de qual foi a categoria mais vendida por meio do método values_counts()"
   ]
  },
  {
   "cell_type": "code",
   "execution_count": 2,
   "id": "a74bdb79",
   "metadata": {},
   "outputs": [],
   "source": [
    "lista_De_Produtos = pd.read_csv('../Datasets/olist_products_dataset.csv')"
   ]
  },
  {
   "cell_type": "code",
   "execution_count": 3,
   "id": "4aa2b3e1",
   "metadata": {},
   "outputs": [
    {
     "name": "stdout",
     "output_type": "stream",
     "text": [
      "product_category_name\n",
      "cama_mesa_banho                  3029\n",
      "esporte_lazer                    2867\n",
      "moveis_decoracao                 2657\n",
      "beleza_saude                     2444\n",
      "utilidades_domesticas            2335\n",
      "                                 ... \n",
      "fashion_roupa_infanto_juvenil       5\n",
      "casa_conforto_2                     5\n",
      "pc_gamer                            3\n",
      "seguros_e_servicos                  2\n",
      "cds_dvds_musicais                   1\n",
      "Name: count, Length: 73, dtype: int64\n"
     ]
    }
   ],
   "source": [
    "print(lista_De_Produtos['product_category_name'].value_counts())"
   ]
  },
  {
   "cell_type": "markdown",
   "id": "2bf6431c",
   "metadata": {},
   "source": [
    "#### Podemos notar que em todo o país a categoria mais vendida foi a de Cama,Mesa & Banho. Entretanto, será que ela foi a que mais gerou lucros?"
   ]
  },
  {
   "cell_type": "code",
   "execution_count": 4,
   "id": "dc7b215f",
   "metadata": {},
   "outputs": [],
   "source": [
    "itens_Pedido = pd.read_csv('../Datasets/olist_order_items_dataset.csv')"
   ]
  },
  {
   "cell_type": "code",
   "execution_count": 5,
   "id": "b65cc241",
   "metadata": {},
   "outputs": [
    {
     "name": "stdout",
     "output_type": "stream",
     "text": [
      "    product_category_name       price\n",
      "0            beleza_saude  1258681.34\n",
      "1      relogios_presentes  1205005.68\n",
      "2         cama_mesa_banho  1036988.68\n",
      "3           esporte_lazer   988048.97\n",
      "4  informatica_acessorios   911954.32\n"
     ]
    }
   ],
   "source": [
    "produtos_itens = pd.merge(lista_De_Produtos[['product_id', 'product_category_name']],\n",
    "                          itens_Pedido[['product_id', 'price']],\n",
    "                          on='product_id',\n",
    "                          how='inner')\n",
    "\n",
    "faturamento_categoria = produtos_itens.groupby('product_category_name')['price'].sum().reset_index()\n",
    "\n",
    "faturamento_categoria = faturamento_categoria.sort_values(by='price', ascending=False).reset_index(drop=True)\n",
    "\n",
    "print(faturamento_categoria.head())"
   ]
  },
  {
   "cell_type": "markdown",
   "id": "7cc99bf3",
   "metadata": {},
   "source": [
    "Por meio do código podemos identificar que a categoria que mais gerou lucros é:\n",
    "1. Beleza & Saúde\n",
    "2. Relógios\n",
    "3. Cama, mesa & banho\n"
   ]
  },
  {
   "cell_type": "markdown",
   "id": "7ea55d8e",
   "metadata": {},
   "source": [
    "### Realizando a contagem de qual foi o produto mais vendido por meio do método values_counts()"
   ]
  },
  {
   "cell_type": "code",
   "execution_count": 6,
   "id": "fd840025",
   "metadata": {},
   "outputs": [
    {
     "name": "stdout",
     "output_type": "stream",
     "text": [
      "product_id\n",
      "aca2eb7d00ea1a7b8ebd4e68314663af    527\n",
      "99a4788cb24856965c36a24e339b6058    488\n",
      "422879e10f46682990de24d770e7f83d    484\n",
      "389d119b48cf3043d311335e499d9c6b    392\n",
      "368c6c730842d78016ad823897a372db    388\n",
      "                                   ... \n",
      "dbc42f8ad8afd0147a5a46be630781f8      1\n",
      "5d86ed92606c80a89e547cdba3946812      1\n",
      "0b8750fa58fefe42cf03a9e2e4b8fce6      1\n",
      "a4758e74e2cdb74d0c4db83594ca14a3      1\n",
      "350688d9dc1e75ff97be326363655e01      1\n",
      "Name: count, Length: 32951, dtype: int64\n"
     ]
    }
   ],
   "source": [
    "print(itens_Pedido['product_id'].value_counts())\n"
   ]
  },
  {
   "cell_type": "markdown",
   "id": "7cfcd0b3",
   "metadata": {},
   "source": [
    "Criando um filtro para mostrar os pedidos acima de R$1000,00 e com frete acima de R$75,00."
   ]
  },
  {
   "cell_type": "code",
   "execution_count": 7,
   "id": "176c80d2",
   "metadata": {},
   "outputs": [
    {
     "data": {
      "text/html": [
       "<div>\n",
       "<style scoped>\n",
       "    .dataframe tbody tr th:only-of-type {\n",
       "        vertical-align: middle;\n",
       "    }\n",
       "\n",
       "    .dataframe tbody tr th {\n",
       "        vertical-align: top;\n",
       "    }\n",
       "\n",
       "    .dataframe thead th {\n",
       "        text-align: right;\n",
       "    }\n",
       "</style>\n",
       "<table border=\"1\" class=\"dataframe\">\n",
       "  <thead>\n",
       "    <tr style=\"text-align: right;\">\n",
       "      <th></th>\n",
       "      <th>order_id</th>\n",
       "      <th>order_item_id</th>\n",
       "      <th>product_id</th>\n",
       "      <th>seller_id</th>\n",
       "      <th>shipping_limit_date</th>\n",
       "      <th>price</th>\n",
       "      <th>freight_value</th>\n",
       "    </tr>\n",
       "  </thead>\n",
       "  <tbody>\n",
       "    <tr>\n",
       "      <th>518</th>\n",
       "      <td>012f2c4ca09b101a73e18957c3294cd6</td>\n",
       "      <td>1</td>\n",
       "      <td>a9e9edb1bcac585bfbfa381ce40e5d99</td>\n",
       "      <td>06532f10282704ef4c69168b914b77be</td>\n",
       "      <td>2017-05-11 22:35:11</td>\n",
       "      <td>1820.00</td>\n",
       "      <td>81.62</td>\n",
       "    </tr>\n",
       "    <tr>\n",
       "      <th>865</th>\n",
       "      <td>02014f2495eef0e869616829d481d743</td>\n",
       "      <td>1</td>\n",
       "      <td>43cc8e4d981bc04b9d78b12e8a908d41</td>\n",
       "      <td>6061155addc1e54b4cfb51c1c2a32ad8</td>\n",
       "      <td>2018-08-24 11:05:25</td>\n",
       "      <td>1240.00</td>\n",
       "      <td>102.63</td>\n",
       "    </tr>\n",
       "    <tr>\n",
       "      <th>1084</th>\n",
       "      <td>028558cddca332b40b4ac4cb77407edf</td>\n",
       "      <td>1</td>\n",
       "      <td>a233df9a388d27dbdfd31731d4236db0</td>\n",
       "      <td>784ba75dd9d20200c4caed3d7a77141a</td>\n",
       "      <td>2017-07-04 10:35:09</td>\n",
       "      <td>2649.99</td>\n",
       "      <td>134.17</td>\n",
       "    </tr>\n",
       "    <tr>\n",
       "      <th>1122</th>\n",
       "      <td>029c545413b10a6bd7540401f6eef0a3</td>\n",
       "      <td>1</td>\n",
       "      <td>8d4e92265a16e69a1e1d76e67e46d72f</td>\n",
       "      <td>54219883e72aad869adfb2a54b7bfa0f</td>\n",
       "      <td>2018-07-17 09:30:15</td>\n",
       "      <td>1350.00</td>\n",
       "      <td>294.76</td>\n",
       "    </tr>\n",
       "    <tr>\n",
       "      <th>2561</th>\n",
       "      <td>05c32785b5245ab31eb5bc6b0d41f698</td>\n",
       "      <td>1</td>\n",
       "      <td>ef854c7d98d5eba672287b0a9d37075b</td>\n",
       "      <td>455c5640e8c5bd1b2ee85c0158f85727</td>\n",
       "      <td>2018-05-24 22:30:53</td>\n",
       "      <td>1990.00</td>\n",
       "      <td>125.05</td>\n",
       "    </tr>\n",
       "    <tr>\n",
       "      <th>...</th>\n",
       "      <td>...</td>\n",
       "      <td>...</td>\n",
       "      <td>...</td>\n",
       "      <td>...</td>\n",
       "      <td>...</td>\n",
       "      <td>...</td>\n",
       "      <td>...</td>\n",
       "    </tr>\n",
       "    <tr>\n",
       "      <th>110083</th>\n",
       "      <td>fa28c489b6e2a232b8d4512a06ac44f0</td>\n",
       "      <td>1</td>\n",
       "      <td>f7812bf540cb401d6419be55d3b68ce3</td>\n",
       "      <td>52f976b17ea7f2f087f56dcc419328f6</td>\n",
       "      <td>2018-07-06 09:30:19</td>\n",
       "      <td>1190.00</td>\n",
       "      <td>94.78</td>\n",
       "    </tr>\n",
       "    <tr>\n",
       "      <th>110309</th>\n",
       "      <td>fa9bb0fcd9ac91743999d13c2860dac5</td>\n",
       "      <td>1</td>\n",
       "      <td>f18e0f3757837733f36da5143ddccd73</td>\n",
       "      <td>17f51e7198701186712e53a39c564617</td>\n",
       "      <td>2018-02-05 17:50:44</td>\n",
       "      <td>1199.00</td>\n",
       "      <td>163.37</td>\n",
       "    </tr>\n",
       "    <tr>\n",
       "      <th>111245</th>\n",
       "      <td>fcbb6af360b31b05460c2c8e524588c0</td>\n",
       "      <td>1</td>\n",
       "      <td>97c948ebc8c04b26b7bbb095d4228f2a</td>\n",
       "      <td>17f51e7198701186712e53a39c564617</td>\n",
       "      <td>2017-12-18 14:57:29</td>\n",
       "      <td>1050.00</td>\n",
       "      <td>144.38</td>\n",
       "    </tr>\n",
       "    <tr>\n",
       "      <th>111957</th>\n",
       "      <td>fe579bd413f722e51bc98182441e135c</td>\n",
       "      <td>1</td>\n",
       "      <td>4aa52adb5489aa151e17023d4e153297</td>\n",
       "      <td>f45122a9ab94eb4f3f8953578bc0c560</td>\n",
       "      <td>2017-05-17 17:10:13</td>\n",
       "      <td>1878.33</td>\n",
       "      <td>102.38</td>\n",
       "    </tr>\n",
       "    <tr>\n",
       "      <th>112233</th>\n",
       "      <td>fefacc66af859508bf1a7934eab1e97f</td>\n",
       "      <td>1</td>\n",
       "      <td>69c590f7ffc7bf8db97190b6cb6ed62e</td>\n",
       "      <td>80ceebb4ee9b31afb6c6a916a574a1e2</td>\n",
       "      <td>2018-08-02 04:05:13</td>\n",
       "      <td>6729.00</td>\n",
       "      <td>193.21</td>\n",
       "    </tr>\n",
       "  </tbody>\n",
       "</table>\n",
       "<p>197 rows × 7 columns</p>\n",
       "</div>"
      ],
      "text/plain": [
       "                                order_id  order_item_id  \\\n",
       "518     012f2c4ca09b101a73e18957c3294cd6              1   \n",
       "865     02014f2495eef0e869616829d481d743              1   \n",
       "1084    028558cddca332b40b4ac4cb77407edf              1   \n",
       "1122    029c545413b10a6bd7540401f6eef0a3              1   \n",
       "2561    05c32785b5245ab31eb5bc6b0d41f698              1   \n",
       "...                                  ...            ...   \n",
       "110083  fa28c489b6e2a232b8d4512a06ac44f0              1   \n",
       "110309  fa9bb0fcd9ac91743999d13c2860dac5              1   \n",
       "111245  fcbb6af360b31b05460c2c8e524588c0              1   \n",
       "111957  fe579bd413f722e51bc98182441e135c              1   \n",
       "112233  fefacc66af859508bf1a7934eab1e97f              1   \n",
       "\n",
       "                              product_id                         seller_id  \\\n",
       "518     a9e9edb1bcac585bfbfa381ce40e5d99  06532f10282704ef4c69168b914b77be   \n",
       "865     43cc8e4d981bc04b9d78b12e8a908d41  6061155addc1e54b4cfb51c1c2a32ad8   \n",
       "1084    a233df9a388d27dbdfd31731d4236db0  784ba75dd9d20200c4caed3d7a77141a   \n",
       "1122    8d4e92265a16e69a1e1d76e67e46d72f  54219883e72aad869adfb2a54b7bfa0f   \n",
       "2561    ef854c7d98d5eba672287b0a9d37075b  455c5640e8c5bd1b2ee85c0158f85727   \n",
       "...                                  ...                               ...   \n",
       "110083  f7812bf540cb401d6419be55d3b68ce3  52f976b17ea7f2f087f56dcc419328f6   \n",
       "110309  f18e0f3757837733f36da5143ddccd73  17f51e7198701186712e53a39c564617   \n",
       "111245  97c948ebc8c04b26b7bbb095d4228f2a  17f51e7198701186712e53a39c564617   \n",
       "111957  4aa52adb5489aa151e17023d4e153297  f45122a9ab94eb4f3f8953578bc0c560   \n",
       "112233  69c590f7ffc7bf8db97190b6cb6ed62e  80ceebb4ee9b31afb6c6a916a574a1e2   \n",
       "\n",
       "        shipping_limit_date    price  freight_value  \n",
       "518     2017-05-11 22:35:11  1820.00          81.62  \n",
       "865     2018-08-24 11:05:25  1240.00         102.63  \n",
       "1084    2017-07-04 10:35:09  2649.99         134.17  \n",
       "1122    2018-07-17 09:30:15  1350.00         294.76  \n",
       "2561    2018-05-24 22:30:53  1990.00         125.05  \n",
       "...                     ...      ...            ...  \n",
       "110083  2018-07-06 09:30:19  1190.00          94.78  \n",
       "110309  2018-02-05 17:50:44  1199.00         163.37  \n",
       "111245  2017-12-18 14:57:29  1050.00         144.38  \n",
       "111957  2017-05-17 17:10:13  1878.33         102.38  \n",
       "112233  2018-08-02 04:05:13  6729.00         193.21  \n",
       "\n",
       "[197 rows x 7 columns]"
      ]
     },
     "execution_count": 7,
     "metadata": {},
     "output_type": "execute_result"
    }
   ],
   "source": [
    "filtro = (itens_Pedido['price'] > 1000) & (itens_Pedido['freight_value'] > 75)\n",
    "produto_Acima_De_Mil_e_Frete_75 = itens_Pedido[filtro]\n",
    "produto_Acima_De_Mil_e_Frete_75"
   ]
  },
  {
   "cell_type": "markdown",
   "id": "c8f05a57",
   "metadata": {},
   "source": [
    "### Identificando as 5 cidades com o maior número de clientes"
   ]
  },
  {
   "cell_type": "code",
   "execution_count": 8,
   "id": "e41d3c8d",
   "metadata": {},
   "outputs": [],
   "source": [
    "lista_De_Clientes = pd.read_csv('../Datasets/olist_customers_dataset.csv')"
   ]
  },
  {
   "cell_type": "code",
   "execution_count": 9,
   "id": "6208afac",
   "metadata": {},
   "outputs": [
    {
     "data": {
      "text/plain": [
       "customer_city\n",
       "sao paulo         15540\n",
       "rio de janeiro     6882\n",
       "belo horizonte     2773\n",
       "brasilia           2131\n",
       "curitiba           1521\n",
       "Name: count, dtype: int64"
      ]
     },
     "execution_count": 9,
     "metadata": {},
     "output_type": "execute_result"
    }
   ],
   "source": [
    "lista_De_Clientes['customer_city'].value_counts().head(5)"
   ]
  },
  {
   "cell_type": "markdown",
   "id": "a0e0d541",
   "metadata": {},
   "source": [
    "### Identificando os 5 estados com maior quantidade de clientes e os 5 estados com  menor quantidade de clientes."
   ]
  },
  {
   "cell_type": "code",
   "execution_count": 10,
   "id": "3ea1d759",
   "metadata": {},
   "outputs": [
    {
     "data": {
      "text/plain": [
       "customer_state\n",
       "SP    41746\n",
       "RJ    12852\n",
       "MG    11635\n",
       "RS     5466\n",
       "PR     5045\n",
       "Name: count, dtype: int64"
      ]
     },
     "execution_count": 10,
     "metadata": {},
     "output_type": "execute_result"
    }
   ],
   "source": [
    "lista_De_Clientes['customer_state'].value_counts().head(5)"
   ]
  },
  {
   "cell_type": "code",
   "execution_count": 11,
   "id": "ba09a301",
   "metadata": {},
   "outputs": [
    {
     "data": {
      "text/plain": [
       "customer_state\n",
       "RO    253\n",
       "AM    148\n",
       "AC     81\n",
       "AP     68\n",
       "RR     46\n",
       "Name: count, dtype: int64"
      ]
     },
     "execution_count": 11,
     "metadata": {},
     "output_type": "execute_result"
    }
   ],
   "source": [
    "lista_De_Clientes['customer_state'].value_counts().tail(5)"
   ]
  },
  {
   "cell_type": "markdown",
   "id": "a0b88d6a",
   "metadata": {},
   "source": [
    " Podemos notar que a região sudeste do país contem a maior base de clientes, enquanto isso, a região norte inclui a menor taxa de pedidos."
   ]
  },
  {
   "cell_type": "markdown",
   "id": "277f3e94",
   "metadata": {},
   "source": [
    "#### Usando o MatPlotLib para mostrar um gráfico de barras horizontais com as 5 cidades que mais venderam"
   ]
  },
  {
   "cell_type": "code",
   "execution_count": 12,
   "id": "ebe75111",
   "metadata": {},
   "outputs": [
    {
     "data": {
      "text/plain": [
       "Text(0.5, 0, 'N° total de compras')"
      ]
     },
     "execution_count": 12,
     "metadata": {},
     "output_type": "execute_result"
    },
    {
     "data": {
      "image/png": "[encoded data removed]",
      "text/plain": [
       "<Figure size 640x480 with 1 Axes>"
      ]
     },
     "metadata": {},
     "output_type": "display_data"
    }
   ],
   "source": [
    "ranking_Cidades = lista_De_Clientes['customer_city'].value_counts()\n",
    "ranking_Cidades = ranking_Cidades.reset_index()\n",
    "ranking_Cidades.columns = ['Cidade', 'Número total de compras']\n",
    "\n",
    "ranking_Cidades.head(5).plot(kind='barh', x='Cidade', y='Número total de compras', legend=False)\n",
    "plt.title('Cidades que mais compraram')\n",
    "plt.ylabel('Cidade')\n",
    "plt.xlabel('N° total de compras')\n"
   ]
  },
  {
   "cell_type": "code",
   "execution_count": 13,
   "id": "c8089e0f",
   "metadata": {},
   "outputs": [
    {
     "data": {
      "text/html": [
       "<div>\n",
       "<style scoped>\n",
       "    .dataframe tbody tr th:only-of-type {\n",
       "        vertical-align: middle;\n",
       "    }\n",
       "\n",
       "    .dataframe tbody tr th {\n",
       "        vertical-align: top;\n",
       "    }\n",
       "\n",
       "    .dataframe thead th {\n",
       "        text-align: right;\n",
       "    }\n",
       "</style>\n",
       "<table border=\"1\" class=\"dataframe\">\n",
       "  <thead>\n",
       "    <tr style=\"text-align: right;\">\n",
       "      <th></th>\n",
       "      <th>Cidade</th>\n",
       "      <th>Número total de compras</th>\n",
       "    </tr>\n",
       "  </thead>\n",
       "  <tbody>\n",
       "    <tr>\n",
       "      <th>0</th>\n",
       "      <td>sao paulo</td>\n",
       "      <td>15540</td>\n",
       "    </tr>\n",
       "    <tr>\n",
       "      <th>1</th>\n",
       "      <td>rio de janeiro</td>\n",
       "      <td>6882</td>\n",
       "    </tr>\n",
       "    <tr>\n",
       "      <th>2</th>\n",
       "      <td>belo horizonte</td>\n",
       "      <td>2773</td>\n",
       "    </tr>\n",
       "    <tr>\n",
       "      <th>3</th>\n",
       "      <td>brasilia</td>\n",
       "      <td>2131</td>\n",
       "    </tr>\n",
       "    <tr>\n",
       "      <th>4</th>\n",
       "      <td>curitiba</td>\n",
       "      <td>1521</td>\n",
       "    </tr>\n",
       "  </tbody>\n",
       "</table>\n",
       "</div>"
      ],
      "text/plain": [
       "           Cidade  Número total de compras\n",
       "0       sao paulo                    15540\n",
       "1  rio de janeiro                     6882\n",
       "2  belo horizonte                     2773\n",
       "3        brasilia                     2131\n",
       "4        curitiba                     1521"
      ]
     },
     "execution_count": 13,
     "metadata": {},
     "output_type": "execute_result"
    }
   ],
   "source": [
    "ranking_Cidades.head(5)"
   ]
  },
  {
   "cell_type": "markdown",
   "id": "c33655e6",
   "metadata": {},
   "source": [
    "## Usando merge para unir as tabelas itensDePedido e ListadeClientes"
   ]
  },
  {
   "cell_type": "code",
   "execution_count": 14,
   "id": "a2ad0c10",
   "metadata": {},
   "outputs": [
    {
     "name": "stdout",
     "output_type": "stream",
     "text": [
      "Index(['order_id', 'order_item_id', 'product_id', 'seller_id',\n",
      "       'shipping_limit_date', 'price', 'freight_value'],\n",
      "      dtype='object')\n"
     ]
    }
   ],
   "source": [
    "pedidos = pd.read_csv('../Datasets/olist_orders_dataset.csv')\n",
    "pedidos_Itens_Pedidos = pd.merge(pedidos, itens_Pedido, on='order_id', how='inner')\n",
    "pedidos_Clientes = pd.merge(pedidos_Itens_Pedidos, lista_De_Clientes, on='customer_id', how='inner')\n",
    "print(itens_Pedido.columns)\n"
   ]
  },
  {
   "cell_type": "code",
   "execution_count": 15,
   "id": "972faef2",
   "metadata": {},
   "outputs": [
    {
     "data": {
      "text/plain": [
       "193"
      ]
     },
     "execution_count": 15,
     "metadata": {},
     "output_type": "execute_result"
    }
   ],
   "source": [
    "pedidos_Clientes[['product_id', 'price', 'customer_state']].value_counts().max()\n"
   ]
  },
  {
   "cell_type": "code",
   "execution_count": 16,
   "id": "f63fc0e9",
   "metadata": {},
   "outputs": [],
   "source": [
    "mais_vendidos = pedidos_Clientes.groupby('product_id').agg({\n",
    "    'price': 'max',  \n",
    "    'customer_state': 'first',  \n",
    "    'order_id': 'count' \n",
    "}).rename(columns={'order_id': 'quantidade_vendas'})\n"
   ]
  },
  {
   "cell_type": "code",
   "execution_count": 17,
   "id": "5f139a1c",
   "metadata": {},
   "outputs": [],
   "source": [
    "top5 = mais_vendidos.sort_values(by=['quantidade_vendas', 'price'], ascending=False).head(10)"
   ]
  },
  {
   "cell_type": "code",
   "execution_count": 18,
   "id": "a896047e",
   "metadata": {},
   "outputs": [
    {
     "data": {
      "text/html": [
       "<div>\n",
       "<style scoped>\n",
       "    .dataframe tbody tr th:only-of-type {\n",
       "        vertical-align: middle;\n",
       "    }\n",
       "\n",
       "    .dataframe tbody tr th {\n",
       "        vertical-align: top;\n",
       "    }\n",
       "\n",
       "    .dataframe thead th {\n",
       "        text-align: right;\n",
       "    }\n",
       "</style>\n",
       "<table border=\"1\" class=\"dataframe\">\n",
       "  <thead>\n",
       "    <tr style=\"text-align: right;\">\n",
       "      <th></th>\n",
       "      <th>price</th>\n",
       "      <th>customer_state</th>\n",
       "      <th>quantidade_vendas</th>\n",
       "    </tr>\n",
       "    <tr>\n",
       "      <th>product_id</th>\n",
       "      <th></th>\n",
       "      <th></th>\n",
       "      <th></th>\n",
       "    </tr>\n",
       "  </thead>\n",
       "  <tbody>\n",
       "    <tr>\n",
       "      <th>aca2eb7d00ea1a7b8ebd4e68314663af</th>\n",
       "      <td>109.90</td>\n",
       "      <td>SP</td>\n",
       "      <td>527</td>\n",
       "    </tr>\n",
       "    <tr>\n",
       "      <th>99a4788cb24856965c36a24e339b6058</th>\n",
       "      <td>89.90</td>\n",
       "      <td>SP</td>\n",
       "      <td>488</td>\n",
       "    </tr>\n",
       "    <tr>\n",
       "      <th>422879e10f46682990de24d770e7f83d</th>\n",
       "      <td>59.90</td>\n",
       "      <td>SP</td>\n",
       "      <td>484</td>\n",
       "    </tr>\n",
       "    <tr>\n",
       "      <th>389d119b48cf3043d311335e499d9c6b</th>\n",
       "      <td>59.90</td>\n",
       "      <td>MG</td>\n",
       "      <td>392</td>\n",
       "    </tr>\n",
       "    <tr>\n",
       "      <th>368c6c730842d78016ad823897a372db</th>\n",
       "      <td>59.90</td>\n",
       "      <td>SP</td>\n",
       "      <td>388</td>\n",
       "    </tr>\n",
       "    <tr>\n",
       "      <th>53759a2ecddad2bb87a079a1f1519f73</th>\n",
       "      <td>59.90</td>\n",
       "      <td>RJ</td>\n",
       "      <td>373</td>\n",
       "    </tr>\n",
       "    <tr>\n",
       "      <th>d1c427060a0f73f6b889a5c7c61f2ac4</th>\n",
       "      <td>189.99</td>\n",
       "      <td>MG</td>\n",
       "      <td>343</td>\n",
       "    </tr>\n",
       "    <tr>\n",
       "      <th>53b36df67ebb7c41585e8d54d6772e08</th>\n",
       "      <td>179.90</td>\n",
       "      <td>RJ</td>\n",
       "      <td>323</td>\n",
       "    </tr>\n",
       "    <tr>\n",
       "      <th>154e7e31ebfa092203795c972e5804a6</th>\n",
       "      <td>23.99</td>\n",
       "      <td>SP</td>\n",
       "      <td>281</td>\n",
       "    </tr>\n",
       "    <tr>\n",
       "      <th>3dd2a17168ec895c781a9191c1e95ad7</th>\n",
       "      <td>159.90</td>\n",
       "      <td>MG</td>\n",
       "      <td>274</td>\n",
       "    </tr>\n",
       "  </tbody>\n",
       "</table>\n",
       "</div>"
      ],
      "text/plain": [
       "                                   price customer_state  quantidade_vendas\n",
       "product_id                                                                \n",
       "aca2eb7d00ea1a7b8ebd4e68314663af  109.90             SP                527\n",
       "99a4788cb24856965c36a24e339b6058   89.90             SP                488\n",
       "422879e10f46682990de24d770e7f83d   59.90             SP                484\n",
       "389d119b48cf3043d311335e499d9c6b   59.90             MG                392\n",
       "368c6c730842d78016ad823897a372db   59.90             SP                388\n",
       "53759a2ecddad2bb87a079a1f1519f73   59.90             RJ                373\n",
       "d1c427060a0f73f6b889a5c7c61f2ac4  189.99             MG                343\n",
       "53b36df67ebb7c41585e8d54d6772e08  179.90             RJ                323\n",
       "154e7e31ebfa092203795c972e5804a6   23.99             SP                281\n",
       "3dd2a17168ec895c781a9191c1e95ad7  159.90             MG                274"
      ]
     },
     "execution_count": 18,
     "metadata": {},
     "output_type": "execute_result"
    }
   ],
   "source": [
    "top5"
   ]
  },
  {
   "cell_type": "markdown",
   "id": "4dc82b1f",
   "metadata": {},
   "source": [
    "### Encontrando o cliente mais fidelizado"
   ]
  },
  {
   "cell_type": "code",
   "execution_count": 19,
   "id": "2aaa57fe",
   "metadata": {},
   "outputs": [
    {
     "data": {
      "text/html": [
       "<div>\n",
       "<style scoped>\n",
       "    .dataframe tbody tr th:only-of-type {\n",
       "        vertical-align: middle;\n",
       "    }\n",
       "\n",
       "    .dataframe tbody tr th {\n",
       "        vertical-align: top;\n",
       "    }\n",
       "\n",
       "    .dataframe thead th {\n",
       "        text-align: right;\n",
       "    }\n",
       "</style>\n",
       "<table border=\"1\" class=\"dataframe\">\n",
       "  <thead>\n",
       "    <tr style=\"text-align: right;\">\n",
       "      <th></th>\n",
       "      <th>customer_id</th>\n",
       "      <th>customer_unique_id</th>\n",
       "      <th>customer_zip_code_prefix</th>\n",
       "      <th>customer_city</th>\n",
       "      <th>customer_state</th>\n",
       "    </tr>\n",
       "  </thead>\n",
       "  <tbody>\n",
       "    <tr>\n",
       "      <th>0</th>\n",
       "      <td>1bd3585471932167ab72a84955ebefea</td>\n",
       "      <td>8d50f5eadf50201ccdcedfb9e2ac8455</td>\n",
       "      <td>4045</td>\n",
       "      <td>sao paulo</td>\n",
       "      <td>SP</td>\n",
       "    </tr>\n",
       "    <tr>\n",
       "      <th>1</th>\n",
       "      <td>a8fabc805e9a10a3c93ae5bff642b86b</td>\n",
       "      <td>8d50f5eadf50201ccdcedfb9e2ac8455</td>\n",
       "      <td>4045</td>\n",
       "      <td>sao paulo</td>\n",
       "      <td>SP</td>\n",
       "    </tr>\n",
       "    <tr>\n",
       "      <th>2</th>\n",
       "      <td>897b7f72042714efaa64ac306ba0cafc</td>\n",
       "      <td>8d50f5eadf50201ccdcedfb9e2ac8455</td>\n",
       "      <td>4045</td>\n",
       "      <td>sao paulo</td>\n",
       "      <td>SP</td>\n",
       "    </tr>\n",
       "    <tr>\n",
       "      <th>3</th>\n",
       "      <td>b2b13de0770e06de50080fea77c459e6</td>\n",
       "      <td>8d50f5eadf50201ccdcedfb9e2ac8455</td>\n",
       "      <td>4045</td>\n",
       "      <td>sao paulo</td>\n",
       "      <td>SP</td>\n",
       "    </tr>\n",
       "    <tr>\n",
       "      <th>4</th>\n",
       "      <td>42dbc1ad9d560637c9c4c1533746f86d</td>\n",
       "      <td>8d50f5eadf50201ccdcedfb9e2ac8455</td>\n",
       "      <td>4045</td>\n",
       "      <td>sao paulo</td>\n",
       "      <td>SP</td>\n",
       "    </tr>\n",
       "    <tr>\n",
       "      <th>5</th>\n",
       "      <td>dfb941d6f7b02f57a44c3b7c3fefb44b</td>\n",
       "      <td>8d50f5eadf50201ccdcedfb9e2ac8455</td>\n",
       "      <td>4045</td>\n",
       "      <td>sao paulo</td>\n",
       "      <td>SP</td>\n",
       "    </tr>\n",
       "    <tr>\n",
       "      <th>6</th>\n",
       "      <td>65f9db9dd07a4e79b625effa4c868fcb</td>\n",
       "      <td>8d50f5eadf50201ccdcedfb9e2ac8455</td>\n",
       "      <td>4045</td>\n",
       "      <td>sao paulo</td>\n",
       "      <td>SP</td>\n",
       "    </tr>\n",
       "    <tr>\n",
       "      <th>7</th>\n",
       "      <td>1c62b48fb34ee043310dcb233caabd2e</td>\n",
       "      <td>8d50f5eadf50201ccdcedfb9e2ac8455</td>\n",
       "      <td>4045</td>\n",
       "      <td>sao paulo</td>\n",
       "      <td>SP</td>\n",
       "    </tr>\n",
       "    <tr>\n",
       "      <th>8</th>\n",
       "      <td>a682769c4bc10fc6ef2101337a6c83c9</td>\n",
       "      <td>8d50f5eadf50201ccdcedfb9e2ac8455</td>\n",
       "      <td>4045</td>\n",
       "      <td>sao paulo</td>\n",
       "      <td>SP</td>\n",
       "    </tr>\n",
       "    <tr>\n",
       "      <th>9</th>\n",
       "      <td>6289b75219d757a56c0cce8d9e427900</td>\n",
       "      <td>8d50f5eadf50201ccdcedfb9e2ac8455</td>\n",
       "      <td>4045</td>\n",
       "      <td>sao paulo</td>\n",
       "      <td>SP</td>\n",
       "    </tr>\n",
       "    <tr>\n",
       "      <th>10</th>\n",
       "      <td>3414a9c813e3ca02504b8be8b2deb27f</td>\n",
       "      <td>8d50f5eadf50201ccdcedfb9e2ac8455</td>\n",
       "      <td>4045</td>\n",
       "      <td>sao paulo</td>\n",
       "      <td>SP</td>\n",
       "    </tr>\n",
       "    <tr>\n",
       "      <th>11</th>\n",
       "      <td>0e4fdc084a6b9329ed55d62dcd653ccf</td>\n",
       "      <td>8d50f5eadf50201ccdcedfb9e2ac8455</td>\n",
       "      <td>4045</td>\n",
       "      <td>sao paulo</td>\n",
       "      <td>SP</td>\n",
       "    </tr>\n",
       "    <tr>\n",
       "      <th>12</th>\n",
       "      <td>f5188d99e9281e214a4a7d1b139a8229</td>\n",
       "      <td>8d50f5eadf50201ccdcedfb9e2ac8455</td>\n",
       "      <td>4045</td>\n",
       "      <td>sao paulo</td>\n",
       "      <td>SP</td>\n",
       "    </tr>\n",
       "    <tr>\n",
       "      <th>13</th>\n",
       "      <td>89be66634d68fa73a95499b6352e085d</td>\n",
       "      <td>8d50f5eadf50201ccdcedfb9e2ac8455</td>\n",
       "      <td>4045</td>\n",
       "      <td>sao paulo</td>\n",
       "      <td>SP</td>\n",
       "    </tr>\n",
       "    <tr>\n",
       "      <th>14</th>\n",
       "      <td>0bf8bf19944a7f8b40ba86fef778ca7c</td>\n",
       "      <td>8d50f5eadf50201ccdcedfb9e2ac8455</td>\n",
       "      <td>4045</td>\n",
       "      <td>sao paulo</td>\n",
       "      <td>SP</td>\n",
       "    </tr>\n",
       "    <tr>\n",
       "      <th>15</th>\n",
       "      <td>9a1afef458843a022e431f4cb304dfe9</td>\n",
       "      <td>8d50f5eadf50201ccdcedfb9e2ac8455</td>\n",
       "      <td>4045</td>\n",
       "      <td>sao paulo</td>\n",
       "      <td>SP</td>\n",
       "    </tr>\n",
       "    <tr>\n",
       "      <th>16</th>\n",
       "      <td>31dd055624c66f291578297a551a6cdf</td>\n",
       "      <td>8d50f5eadf50201ccdcedfb9e2ac8455</td>\n",
       "      <td>4045</td>\n",
       "      <td>sao paulo</td>\n",
       "      <td>SP</td>\n",
       "    </tr>\n",
       "  </tbody>\n",
       "</table>\n",
       "</div>"
      ],
      "text/plain": [
       "                         customer_id                customer_unique_id  \\\n",
       "0   1bd3585471932167ab72a84955ebefea  8d50f5eadf50201ccdcedfb9e2ac8455   \n",
       "1   a8fabc805e9a10a3c93ae5bff642b86b  8d50f5eadf50201ccdcedfb9e2ac8455   \n",
       "2   897b7f72042714efaa64ac306ba0cafc  8d50f5eadf50201ccdcedfb9e2ac8455   \n",
       "3   b2b13de0770e06de50080fea77c459e6  8d50f5eadf50201ccdcedfb9e2ac8455   \n",
       "4   42dbc1ad9d560637c9c4c1533746f86d  8d50f5eadf50201ccdcedfb9e2ac8455   \n",
       "5   dfb941d6f7b02f57a44c3b7c3fefb44b  8d50f5eadf50201ccdcedfb9e2ac8455   \n",
       "6   65f9db9dd07a4e79b625effa4c868fcb  8d50f5eadf50201ccdcedfb9e2ac8455   \n",
       "7   1c62b48fb34ee043310dcb233caabd2e  8d50f5eadf50201ccdcedfb9e2ac8455   \n",
       "8   a682769c4bc10fc6ef2101337a6c83c9  8d50f5eadf50201ccdcedfb9e2ac8455   \n",
       "9   6289b75219d757a56c0cce8d9e427900  8d50f5eadf50201ccdcedfb9e2ac8455   \n",
       "10  3414a9c813e3ca02504b8be8b2deb27f  8d50f5eadf50201ccdcedfb9e2ac8455   \n",
       "11  0e4fdc084a6b9329ed55d62dcd653ccf  8d50f5eadf50201ccdcedfb9e2ac8455   \n",
       "12  f5188d99e9281e214a4a7d1b139a8229  8d50f5eadf50201ccdcedfb9e2ac8455   \n",
       "13  89be66634d68fa73a95499b6352e085d  8d50f5eadf50201ccdcedfb9e2ac8455   \n",
       "14  0bf8bf19944a7f8b40ba86fef778ca7c  8d50f5eadf50201ccdcedfb9e2ac8455   \n",
       "15  9a1afef458843a022e431f4cb304dfe9  8d50f5eadf50201ccdcedfb9e2ac8455   \n",
       "16  31dd055624c66f291578297a551a6cdf  8d50f5eadf50201ccdcedfb9e2ac8455   \n",
       "\n",
       "    customer_zip_code_prefix customer_city customer_state  \n",
       "0                       4045     sao paulo             SP  \n",
       "1                       4045     sao paulo             SP  \n",
       "2                       4045     sao paulo             SP  \n",
       "3                       4045     sao paulo             SP  \n",
       "4                       4045     sao paulo             SP  \n",
       "5                       4045     sao paulo             SP  \n",
       "6                       4045     sao paulo             SP  \n",
       "7                       4045     sao paulo             SP  \n",
       "8                       4045     sao paulo             SP  \n",
       "9                       4045     sao paulo             SP  \n",
       "10                      4045     sao paulo             SP  \n",
       "11                      4045     sao paulo             SP  \n",
       "12                      4045     sao paulo             SP  \n",
       "13                      4045     sao paulo             SP  \n",
       "14                      4045     sao paulo             SP  \n",
       "15                      4045     sao paulo             SP  \n",
       "16                      4045     sao paulo             SP  "
      ]
     },
     "execution_count": 19,
     "metadata": {},
     "output_type": "execute_result"
    }
   ],
   "source": [
    "quantas_Vezes_Comprou = lista_De_Clientes['customer_unique_id'].value_counts().max()\n",
    "id_Mais_Recorrente = lista_De_Clientes['customer_unique_id'].value_counts().idxmax()\n",
    "cliente_Recorrente = lista_De_Clientes[lista_De_Clientes['customer_unique_id'] == id_Mais_Recorrente].reset_index(drop=True)\n",
    "cliente_Recorrente"
   ]
  },
  {
   "cell_type": "markdown",
   "id": "46fc0e1c",
   "metadata": {},
   "source": [
    "#### O cliente que mais fidelizado realizou um total de **17 compras**. Além disso, podemos notar que o estado em que ele mora é SP."
   ]
  },
  {
   "cell_type": "markdown",
   "id": "568bf95e",
   "metadata": {},
   "source": [
    "### Criando um ranking com os 5 clientes que mais compraram"
   ]
  },
  {
   "cell_type": "code",
   "execution_count": 20,
   "id": "8f4fe4fe",
   "metadata": {},
   "outputs": [],
   "source": [
    "ranking = lista_De_Clientes['customer_unique_id'].value_counts()\n",
    "ranking_df = ranking.reset_index()\n",
    "ranking_df.columns = ['ID único do cliente', 'Quantidade de compras']"
   ]
  },
  {
   "cell_type": "code",
   "execution_count": 21,
   "id": "f4898963",
   "metadata": {},
   "outputs": [
    {
     "data": {
      "text/html": [
       "<div>\n",
       "<style scoped>\n",
       "    .dataframe tbody tr th:only-of-type {\n",
       "        vertical-align: middle;\n",
       "    }\n",
       "\n",
       "    .dataframe tbody tr th {\n",
       "        vertical-align: top;\n",
       "    }\n",
       "\n",
       "    .dataframe thead th {\n",
       "        text-align: right;\n",
       "    }\n",
       "</style>\n",
       "<table border=\"1\" class=\"dataframe\">\n",
       "  <thead>\n",
       "    <tr style=\"text-align: right;\">\n",
       "      <th></th>\n",
       "      <th>ID único do cliente</th>\n",
       "      <th>Quantidade de compras</th>\n",
       "    </tr>\n",
       "  </thead>\n",
       "  <tbody>\n",
       "    <tr>\n",
       "      <th>0</th>\n",
       "      <td>8d50f5eadf50201ccdcedfb9e2ac8455</td>\n",
       "      <td>17</td>\n",
       "    </tr>\n",
       "    <tr>\n",
       "      <th>1</th>\n",
       "      <td>3e43e6105506432c953e165fb2acf44c</td>\n",
       "      <td>9</td>\n",
       "    </tr>\n",
       "    <tr>\n",
       "      <th>2</th>\n",
       "      <td>1b6c7548a2a1f9037c1fd3ddfed95f33</td>\n",
       "      <td>7</td>\n",
       "    </tr>\n",
       "    <tr>\n",
       "      <th>3</th>\n",
       "      <td>ca77025e7201e3b30c44b472ff346268</td>\n",
       "      <td>7</td>\n",
       "    </tr>\n",
       "    <tr>\n",
       "      <th>4</th>\n",
       "      <td>6469f99c1f9dfae7733b25662e7f1782</td>\n",
       "      <td>7</td>\n",
       "    </tr>\n",
       "  </tbody>\n",
       "</table>\n",
       "</div>"
      ],
      "text/plain": [
       "                ID único do cliente  Quantidade de compras\n",
       "0  8d50f5eadf50201ccdcedfb9e2ac8455                     17\n",
       "1  3e43e6105506432c953e165fb2acf44c                      9\n",
       "2  1b6c7548a2a1f9037c1fd3ddfed95f33                      7\n",
       "3  ca77025e7201e3b30c44b472ff346268                      7\n",
       "4  6469f99c1f9dfae7733b25662e7f1782                      7"
      ]
     },
     "execution_count": 21,
     "metadata": {},
     "output_type": "execute_result"
    }
   ],
   "source": [
    "ranking_df.head(5)"
   ]
  },
  {
   "cell_type": "markdown",
   "id": "051dac5a",
   "metadata": {},
   "source": [
    "### Gerando um gráfico que representa o ranking de compra entre esses 5 clientes"
   ]
  },
  {
   "cell_type": "code",
   "execution_count": 22,
   "id": "6844badd",
   "metadata": {},
   "outputs": [
    {
     "data": {
      "text/plain": [
       "Text(0.5, 0, 'N° de compras')"
      ]
     },
     "execution_count": 22,
     "metadata": {},
     "output_type": "execute_result"
    },
    {
     "data": {
      "image/png": "[encoded data removed]",
      "text/plain": [
       "<Figure size 640x480 with 1 Axes>"
      ]
     },
     "metadata": {},
     "output_type": "display_data"
    }
   ],
   "source": [
    "\n",
    "ranking_df.head(5).plot(kind='barh', x='ID único do cliente', y='Quantidade de compras', legend=False)\n",
    "plt.title('Top 5 Clientes por Quantidade de Compras')\n",
    "plt.ylabel('Cliente')\n",
    "plt.xlabel('N° de compras')\n"
   ]
  },
  {
   "cell_type": "markdown",
   "id": "0cf99457",
   "metadata": {},
   "source": [
    "### Verificando a mediana do valor do frete entre diferentes estados"
   ]
  },
  {
   "cell_type": "markdown",
   "id": "baa02b41",
   "metadata": {},
   "source": [
    "1° é necessário realizar o merge entre a tabela itensDePedidos e Pedidos porque elas têm o 'order_id' que será usado para juntar com a próxima tabela"
   ]
  },
  {
   "cell_type": "code",
   "execution_count": 23,
   "id": "cf988a56",
   "metadata": {},
   "outputs": [],
   "source": [
    "id_do_Pedido = pd.merge(itens_Pedido, pedidos, on='order_id', how='inner')"
   ]
  },
  {
   "cell_type": "code",
   "execution_count": 24,
   "id": "49d2a3e4",
   "metadata": {},
   "outputs": [
    {
     "data": {
      "text/plain": [
       "Index(['order_id', 'order_item_id', 'product_id', 'seller_id',\n",
       "       'shipping_limit_date', 'price', 'freight_value', 'customer_id',\n",
       "       'order_status', 'order_purchase_timestamp', 'order_approved_at',\n",
       "       'order_delivered_carrier_date', 'order_delivered_customer_date',\n",
       "       'order_estimated_delivery_date'],\n",
       "      dtype='object')"
      ]
     },
     "execution_count": 24,
     "metadata": {},
     "output_type": "execute_result"
    }
   ],
   "source": [
    "id_do_Pedido.columns"
   ]
  },
  {
   "cell_type": "markdown",
   "id": "f4f29720",
   "metadata": {},
   "source": [
    "Agora que criamos um dataframe que contem as informações de 'order_id' e frete, podemos dar um merge na tabela que contem as informações do estado"
   ]
  },
  {
   "cell_type": "code",
   "execution_count": 25,
   "id": "9f8e49b3",
   "metadata": {},
   "outputs": [],
   "source": [
    "id_do_Cliente_com_Pedido = pd.merge(id_do_Pedido, lista_De_Clientes, on='customer_id', how='inner')"
   ]
  },
  {
   "cell_type": "code",
   "execution_count": 26,
   "id": "ae998de1",
   "metadata": {},
   "outputs": [
    {
     "data": {
      "text/plain": [
       "Index(['order_id', 'order_item_id', 'product_id', 'seller_id',\n",
       "       'shipping_limit_date', 'price', 'freight_value', 'customer_id',\n",
       "       'order_status', 'order_purchase_timestamp', 'order_approved_at',\n",
       "       'order_delivered_carrier_date', 'order_delivered_customer_date',\n",
       "       'order_estimated_delivery_date', 'customer_unique_id',\n",
       "       'customer_zip_code_prefix', 'customer_city', 'customer_state'],\n",
       "      dtype='object')"
      ]
     },
     "execution_count": 26,
     "metadata": {},
     "output_type": "execute_result"
    }
   ],
   "source": [
    "id_do_Cliente_com_Pedido.columns"
   ]
  },
  {
   "cell_type": "markdown",
   "id": "f2280f5d",
   "metadata": {},
   "source": [
    "Agora que temos o dataframe que inclui o ID, valor do frete e estado podemos realizar o groupby para retirar a mediana entre os valores."
   ]
  },
  {
   "cell_type": "code",
   "execution_count": 27,
   "id": "cd66f0f9",
   "metadata": {},
   "outputs": [],
   "source": [
    "valor_Medio_de_Frete_Entre_Estados = id_do_Cliente_com_Pedido.groupby('customer_state')['freight_value'].median().reset_index()\n",
    "\n",
    "valor_Medio_de_Frete_Entre_Estados = valor_Medio_de_Frete_Entre_Estados.sort_values(by='freight_value').reset_index(drop=True)"
   ]
  },
  {
   "cell_type": "code",
   "execution_count": 28,
   "id": "8972b9f8",
   "metadata": {},
   "outputs": [
    {
     "data": {
      "text/html": [
       "<div>\n",
       "<style scoped>\n",
       "    .dataframe tbody tr th:only-of-type {\n",
       "        vertical-align: middle;\n",
       "    }\n",
       "\n",
       "    .dataframe tbody tr th {\n",
       "        vertical-align: top;\n",
       "    }\n",
       "\n",
       "    .dataframe thead th {\n",
       "        text-align: right;\n",
       "    }\n",
       "</style>\n",
       "<table border=\"1\" class=\"dataframe\">\n",
       "  <thead>\n",
       "    <tr style=\"text-align: right;\">\n",
       "      <th></th>\n",
       "      <th>customer_state</th>\n",
       "      <th>freight_value</th>\n",
       "    </tr>\n",
       "  </thead>\n",
       "  <tbody>\n",
       "    <tr>\n",
       "      <th>0</th>\n",
       "      <td>SP</td>\n",
       "      <td>12.96</td>\n",
       "    </tr>\n",
       "    <tr>\n",
       "      <th>1</th>\n",
       "      <td>DF</td>\n",
       "      <td>17.13</td>\n",
       "    </tr>\n",
       "    <tr>\n",
       "      <th>2</th>\n",
       "      <td>PR</td>\n",
       "      <td>17.23</td>\n",
       "    </tr>\n",
       "  </tbody>\n",
       "</table>\n",
       "</div>"
      ],
      "text/plain": [
       "  customer_state  freight_value\n",
       "0             SP          12.96\n",
       "1             DF          17.13\n",
       "2             PR          17.23"
      ]
     },
     "execution_count": 28,
     "metadata": {},
     "output_type": "execute_result"
    }
   ],
   "source": [
    "valor_Medio_de_Frete_Entre_Estados.head(3)"
   ]
  },
  {
   "cell_type": "code",
   "execution_count": 29,
   "id": "54314e0a",
   "metadata": {},
   "outputs": [
    {
     "data": {
      "text/html": [
       "<div>\n",
       "<style scoped>\n",
       "    .dataframe tbody tr th:only-of-type {\n",
       "        vertical-align: middle;\n",
       "    }\n",
       "\n",
       "    .dataframe tbody tr th {\n",
       "        vertical-align: top;\n",
       "    }\n",
       "\n",
       "    .dataframe thead th {\n",
       "        text-align: right;\n",
       "    }\n",
       "</style>\n",
       "<table border=\"1\" class=\"dataframe\">\n",
       "  <thead>\n",
       "    <tr style=\"text-align: right;\">\n",
       "      <th></th>\n",
       "      <th>customer_state</th>\n",
       "      <th>freight_value</th>\n",
       "    </tr>\n",
       "  </thead>\n",
       "  <tbody>\n",
       "    <tr>\n",
       "      <th>24</th>\n",
       "      <td>PI</td>\n",
       "      <td>34.295</td>\n",
       "    </tr>\n",
       "    <tr>\n",
       "      <th>25</th>\n",
       "      <td>RO</td>\n",
       "      <td>34.705</td>\n",
       "    </tr>\n",
       "    <tr>\n",
       "      <th>26</th>\n",
       "      <td>AC</td>\n",
       "      <td>35.740</td>\n",
       "    </tr>\n",
       "  </tbody>\n",
       "</table>\n",
       "</div>"
      ],
      "text/plain": [
       "   customer_state  freight_value\n",
       "24             PI         34.295\n",
       "25             RO         34.705\n",
       "26             AC         35.740"
      ]
     },
     "execution_count": 29,
     "metadata": {},
     "output_type": "execute_result"
    }
   ],
   "source": [
    "valor_Medio_de_Frete_Entre_Estados.tail(3)"
   ]
  },
  {
   "cell_type": "markdown",
   "id": "1b3c8075",
   "metadata": {},
   "source": [
    "Podemos notar que São Paulo contem a menor média de valor de frete em todo país, vale ressaltar que SP tem a maior base de clientes e com maior faturamento.\n",
    "Entretanto, também é constatado que regiões como Rondônia e Acre tem os maiores valores de frete, isso pode ser considerado um dos motivos do baixo número de clientes nesses estados."
   ]
  }
 ],
 "metadata": {
  "kernelspec": {
   "display_name": "base",
   "language": "python",
   "name": "python3"
  },
  "language_info": {
   "codemirror_mode": {
    "name": "ipython",
    "version": 3
   },
   "file_extension": ".py",
   "mimetype": "text/x-python",
   "name": "python",
   "nbconvert_exporter": "python",
   "pygments_lexer": "ipython3",
   "version": "3.12.7"
  }
 },
 "nbformat": 4,
 "nbformat_minor": 5
}
